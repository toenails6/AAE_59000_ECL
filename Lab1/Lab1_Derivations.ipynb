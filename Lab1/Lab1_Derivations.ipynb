{
 "cells": [
  {
   "cell_type": "markdown",
   "id": "3f2f6434",
   "metadata": {},
   "source": [
    "# Lab 1 Derivations"
   ]
  },
  {
   "cell_type": "code",
   "execution_count": 80,
   "id": "9ac6a22a",
   "metadata": {},
   "outputs": [],
   "source": [
    "from sympy import *\n",
    "init_printing()"
   ]
  },
  {
   "cell_type": "code",
   "execution_count": null,
   "id": "7f3499a6",
   "metadata": {},
   "outputs": [
    {
     "data": {
      "image/png": "[encoded data removed]",
      "text/latex": [
       "$\\displaystyle \\left[\\begin{matrix}\\left(\\frac{v_{l}}{2} + \\frac{v_{r}}{2}\\right) \\cos{\\left(\\theta \\right)}\\\\\\left(\\frac{v_{l}}{2} + \\frac{v_{r}}{2}\\right) \\sin{\\left(\\theta \\right)}\\\\\\frac{- v_{l} + v_{r}}{L}\\end{matrix}\\right]$"
      ],
      "text/plain": [
       "⎡⎛vₗ   vᵣ⎞       ⎤\n",
       "⎢⎜── + ──⎟⋅cos(θ)⎥\n",
       "⎢⎝2    2 ⎠       ⎥\n",
       "⎢                ⎥\n",
       "⎢⎛vₗ   vᵣ⎞       ⎥\n",
       "⎢⎜── + ──⎟⋅sin(θ)⎥\n",
       "⎢⎝2    2 ⎠       ⎥\n",
       "⎢                ⎥\n",
       "⎢    -vₗ + vᵣ    ⎥\n",
       "⎢    ────────    ⎥\n",
       "⎣       L        ⎦"
      ]
     },
     "execution_count": 81,
     "metadata": {},
     "output_type": "execute_result"
    }
   ],
   "source": [
    "v_r, v_l, L, theta, theta_k = symbols('v_r v_l L theta theta_k')\n",
    "f = Matrix([(v_r+v_l)/2*cos(theta), (v_r+v_l)/2*sin(theta), (v_r-v_l)/L])\n",
    "f"
   ]
  },
  {
   "cell_type": "code",
   "execution_count": null,
   "id": "07fc4e65",
   "metadata": {},
   "outputs": [
    {
     "data": {
      "image/png": "[encoded data removed]",
      "text/latex": [
       "$\\displaystyle \\left[\\begin{matrix}0 & 0 & - \\left(\\frac{v_{l}}{2} + \\frac{v_{r}}{2}\\right) \\sin{\\left(\\theta \\right)}\\\\0 & 0 & \\left(\\frac{v_{l}}{2} + \\frac{v_{r}}{2}\\right) \\cos{\\left(\\theta \\right)}\\\\0 & 0 & 0\\end{matrix}\\right]$"
      ],
      "text/plain": [
       "⎡       ⎛vₗ   vᵣ⎞       ⎤\n",
       "⎢0  0  -⎜── + ──⎟⋅sin(θ)⎥\n",
       "⎢       ⎝2    2 ⎠       ⎥\n",
       "⎢                       ⎥\n",
       "⎢      ⎛vₗ   vᵣ⎞        ⎥\n",
       "⎢0  0  ⎜── + ──⎟⋅cos(θ) ⎥\n",
       "⎢      ⎝2    2 ⎠        ⎥\n",
       "⎢                       ⎥\n",
       "⎣0  0          0        ⎦"
      ]
     },
     "execution_count": 82,
     "metadata": {},
     "output_type": "execute_result"
    }
   ],
   "source": [
    "X, Y = symbols('X Y')\n",
    "stateVector = Matrix([X, Y, theta])\n",
    "F = f.jacobian(stateVector)\n",
    "F"
   ]
  },
  {
   "cell_type": "code",
   "execution_count": 83,
   "id": "6309fdc8",
   "metadata": {},
   "outputs": [
    {
     "data": {
      "image/png": "[encoded data removed]",
      "text/latex": [
       "$\\displaystyle \\left[\\begin{matrix}1 & 0 & 0\\\\0 & 1 & 0\\end{matrix}\\right]$"
      ],
      "text/plain": [
       "⎡1  0  0⎤\n",
       "⎢       ⎥\n",
       "⎣0  1  0⎦"
      ]
     },
     "execution_count": 83,
     "metadata": {},
     "output_type": "execute_result"
    }
   ],
   "source": [
    "# State to observation mapping. \n",
    "h = stateVector[0:2, 0]\n",
    "H = h.jacobian(stateVector)\n",
    "H"
   ]
  },
  {
   "cell_type": "code",
   "execution_count": null,
   "id": "8bfe869a",
   "metadata": {},
   "outputs": [],
   "source": []
  }
 ],
 "metadata": {
  "kernelspec": {
   "display_name": "math",
   "language": "python",
   "name": "python3"
  },
  "language_info": {
   "codemirror_mode": {
    "name": "ipython",
    "version": 3
   },
   "file_extension": ".py",
   "mimetype": "text/x-python",
   "name": "python",
   "nbconvert_exporter": "python",
   "pygments_lexer": "ipython3",
   "version": "3.13.5"
  }
 },
 "nbformat": 4,
 "nbformat_minor": 5
}
